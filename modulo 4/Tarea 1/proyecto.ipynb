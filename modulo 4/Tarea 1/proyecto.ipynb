{
 "cells": [
  {
   "cell_type": "code",
   "execution_count": 1,
   "id": "7fdf05eb",
   "metadata": {},
   "outputs": [
    {
     "name": "stdout",
     "output_type": "stream",
     "text": [
      "Requirement already satisfied: fiftyone in c:\\users\\oso\\appdata\\local\\programs\\python\\python311\\lib\\site-packages (1.5.2)\n",
      "Requirement already satisfied: aiofiles in c:\\users\\oso\\appdata\\local\\programs\\python\\python311\\lib\\site-packages (from fiftyone) (24.1.0)\n",
      "Requirement already satisfied: argcomplete in c:\\users\\oso\\appdata\\local\\programs\\python\\python311\\lib\\site-packages (from fiftyone) (3.6.2)\n",
      "Requirement already satisfied: async_lru>=2 in c:\\users\\oso\\appdata\\local\\programs\\python\\python311\\lib\\site-packages (from fiftyone) (2.0.5)\n",
      "Requirement already satisfied: beautifulsoup4 in c:\\users\\oso\\appdata\\local\\programs\\python\\python311\\lib\\site-packages (from fiftyone) (4.13.4)\n",
      "Requirement already satisfied: boto3 in c:\\users\\oso\\appdata\\local\\programs\\python\\python311\\lib\\site-packages (from fiftyone) (1.38.22)\n",
      "Requirement already satisfied: cachetools in c:\\users\\oso\\appdata\\local\\programs\\python\\python311\\lib\\site-packages (from fiftyone) (5.5.2)\n",
      "Requirement already satisfied: dacite<1.8.0,>=1.6.0 in c:\\users\\oso\\appdata\\local\\programs\\python\\python311\\lib\\site-packages (from fiftyone) (1.7.0)\n",
      "Requirement already satisfied: dill in c:\\users\\oso\\appdata\\local\\programs\\python\\python311\\lib\\site-packages (from fiftyone) (0.4.0)\n",
      "Requirement already satisfied: Deprecated in c:\\users\\oso\\appdata\\local\\programs\\python\\python311\\lib\\site-packages (from fiftyone) (1.2.18)\n",
      "Requirement already satisfied: ftfy in c:\\users\\oso\\appdata\\local\\programs\\python\\python311\\lib\\site-packages (from fiftyone) (6.3.1)\n",
      "Requirement already satisfied: humanize in c:\\users\\oso\\appdata\\local\\programs\\python\\python311\\lib\\site-packages (from fiftyone) (4.12.3)\n",
      "Requirement already satisfied: hypercorn>=0.13.2 in c:\\users\\oso\\appdata\\local\\programs\\python\\python311\\lib\\site-packages (from fiftyone) (0.17.3)\n",
      "Requirement already satisfied: Jinja2>=3 in c:\\users\\oso\\appdata\\local\\programs\\python\\python311\\lib\\site-packages (from fiftyone) (3.1.6)\n",
      "Requirement already satisfied: kaleido!=0.2.1.post1 in c:\\users\\oso\\appdata\\local\\programs\\python\\python311\\lib\\site-packages (from fiftyone) (0.2.1)\n",
      "Requirement already satisfied: matplotlib in c:\\users\\oso\\appdata\\local\\programs\\python\\python311\\lib\\site-packages (from fiftyone) (3.10.3)\n",
      "Requirement already satisfied: mongoengine~=0.29.1 in c:\\users\\oso\\appdata\\local\\programs\\python\\python311\\lib\\site-packages (from fiftyone) (0.29.1)\n",
      "Requirement already satisfied: motor~=3.6.0 in c:\\users\\oso\\appdata\\local\\programs\\python\\python311\\lib\\site-packages (from fiftyone) (3.6.1)\n",
      "Requirement already satisfied: numpy in c:\\users\\oso\\appdata\\local\\programs\\python\\python311\\lib\\site-packages (from fiftyone) (2.2.6)\n",
      "Requirement already satisfied: packaging in c:\\users\\oso\\appdata\\local\\programs\\python\\python311\\lib\\site-packages (from fiftyone) (25.0)\n",
      "Requirement already satisfied: pandas in c:\\users\\oso\\appdata\\local\\programs\\python\\python311\\lib\\site-packages (from fiftyone) (2.2.3)\n",
      "Requirement already satisfied: Pillow>=6.2 in c:\\users\\oso\\appdata\\local\\programs\\python\\python311\\lib\\site-packages (from fiftyone) (11.2.1)\n",
      "Requirement already satisfied: plotly>=4.14 in c:\\users\\oso\\appdata\\local\\programs\\python\\python311\\lib\\site-packages (from fiftyone) (6.1.1)\n",
      "Requirement already satisfied: pprintpp in c:\\users\\oso\\appdata\\local\\programs\\python\\python311\\lib\\site-packages (from fiftyone) (0.4.0)\n",
      "Requirement already satisfied: psutil in c:\\users\\oso\\appdata\\local\\programs\\python\\python311\\lib\\site-packages (from fiftyone) (7.0.0)\n",
      "Requirement already satisfied: pymongo~=4.9.2 in c:\\users\\oso\\appdata\\local\\programs\\python\\python311\\lib\\site-packages (from fiftyone) (4.9.2)\n",
      "Requirement already satisfied: pytz in c:\\users\\oso\\appdata\\local\\programs\\python\\python311\\lib\\site-packages (from fiftyone) (2025.2)\n",
      "Requirement already satisfied: PyYAML in c:\\users\\oso\\appdata\\local\\programs\\python\\python311\\lib\\site-packages (from fiftyone) (6.0.2)\n",
      "Requirement already satisfied: regex in c:\\users\\oso\\appdata\\local\\programs\\python\\python311\\lib\\site-packages (from fiftyone) (2024.11.6)\n",
      "Requirement already satisfied: retrying in c:\\users\\oso\\appdata\\local\\programs\\python\\python311\\lib\\site-packages (from fiftyone) (1.3.4)\n",
      "Requirement already satisfied: rtree in c:\\users\\oso\\appdata\\local\\programs\\python\\python311\\lib\\site-packages (from fiftyone) (1.4.0)\n",
      "Requirement already satisfied: scikit-learn in c:\\users\\oso\\appdata\\local\\programs\\python\\python311\\lib\\site-packages (from fiftyone) (1.6.1)\n",
      "Requirement already satisfied: scikit-image in c:\\users\\oso\\appdata\\local\\programs\\python\\python311\\lib\\site-packages (from fiftyone) (0.25.2)\n",
      "Requirement already satisfied: scipy in c:\\users\\oso\\appdata\\local\\programs\\python\\python311\\lib\\site-packages (from fiftyone) (1.15.3)\n",
      "Requirement already satisfied: setuptools in c:\\users\\oso\\appdata\\local\\programs\\python\\python311\\lib\\site-packages (from fiftyone) (65.5.0)\n",
      "Requirement already satisfied: sseclient-py<2,>=1.7.2 in c:\\users\\oso\\appdata\\local\\programs\\python\\python311\\lib\\site-packages (from fiftyone) (1.8.0)\n",
      "Requirement already satisfied: sse-starlette<1,>=0.10.3 in c:\\users\\oso\\appdata\\local\\programs\\python\\python311\\lib\\site-packages (from fiftyone) (0.10.3)\n",
      "Requirement already satisfied: starlette>=0.24.0 in c:\\users\\oso\\appdata\\local\\programs\\python\\python311\\lib\\site-packages (from fiftyone) (0.46.2)\n",
      "Requirement already satisfied: strawberry-graphql>=0.262.4 in c:\\users\\oso\\appdata\\local\\programs\\python\\python311\\lib\\site-packages (from fiftyone) (0.270.1)\n",
      "Requirement already satisfied: tabulate in c:\\users\\oso\\appdata\\local\\programs\\python\\python311\\lib\\site-packages (from fiftyone) (0.9.0)\n",
      "Requirement already satisfied: tqdm in c:\\users\\oso\\appdata\\local\\programs\\python\\python311\\lib\\site-packages (from fiftyone) (4.67.1)\n",
      "Requirement already satisfied: xmltodict in c:\\users\\oso\\appdata\\local\\programs\\python\\python311\\lib\\site-packages (from fiftyone) (0.14.2)\n",
      "Requirement already satisfied: universal-analytics-python3<2,>=1.0.1 in c:\\users\\oso\\appdata\\local\\programs\\python\\python311\\lib\\site-packages (from fiftyone) (1.1.1)\n",
      "Requirement already satisfied: pydash in c:\\users\\oso\\appdata\\local\\programs\\python\\python311\\lib\\site-packages (from fiftyone) (8.0.5)\n",
      "Requirement already satisfied: fiftyone-brain<0.22,>=0.21.2 in c:\\users\\oso\\appdata\\local\\programs\\python\\python311\\lib\\site-packages (from fiftyone) (0.21.2)\n",
      "Requirement already satisfied: fiftyone-db<2.0,>=0.4 in c:\\users\\oso\\appdata\\local\\programs\\python\\python311\\lib\\site-packages (from fiftyone) (1.1.7)\n",
      "Requirement already satisfied: voxel51-eta<0.15,>=0.14.0 in c:\\users\\oso\\appdata\\local\\programs\\python\\python311\\lib\\site-packages (from fiftyone) (0.14.0)\n",
      "Requirement already satisfied: opencv-python-headless in c:\\users\\oso\\appdata\\local\\programs\\python\\python311\\lib\\site-packages (from fiftyone) (4.11.0.86)\n",
      "Requirement already satisfied: dnspython<3.0.0,>=1.16.0 in c:\\users\\oso\\appdata\\local\\programs\\python\\python311\\lib\\site-packages (from pymongo~=4.9.2->fiftyone) (2.7.0)\n",
      "Requirement already satisfied: httpx>=0.10.0 in c:\\users\\oso\\appdata\\local\\programs\\python\\python311\\lib\\site-packages (from universal-analytics-python3<2,>=1.0.1->fiftyone) (0.28.1)\n",
      "Requirement already satisfied: future in c:\\users\\oso\\appdata\\local\\programs\\python\\python311\\lib\\site-packages (from voxel51-eta<0.15,>=0.14.0->fiftyone) (1.0.0)\n",
      "Requirement already satisfied: glob2 in c:\\users\\oso\\appdata\\local\\programs\\python\\python311\\lib\\site-packages (from voxel51-eta<0.15,>=0.14.0->fiftyone) (0.7)\n",
      "Requirement already satisfied: jsonlines in c:\\users\\oso\\appdata\\local\\programs\\python\\python311\\lib\\site-packages (from voxel51-eta<0.15,>=0.14.0->fiftyone) (4.0.0)\n",
      "Requirement already satisfied: py7zr in c:\\users\\oso\\appdata\\local\\programs\\python\\python311\\lib\\site-packages (from voxel51-eta<0.15,>=0.14.0->fiftyone) (0.22.0)\n",
      "Requirement already satisfied: python-dateutil in c:\\users\\oso\\appdata\\local\\programs\\python\\python311\\lib\\site-packages (from voxel51-eta<0.15,>=0.14.0->fiftyone) (2.9.0.post0)\n",
      "Requirement already satisfied: rarfile in c:\\users\\oso\\appdata\\local\\programs\\python\\python311\\lib\\site-packages (from voxel51-eta<0.15,>=0.14.0->fiftyone) (4.2)\n",
      "Requirement already satisfied: requests in c:\\users\\oso\\appdata\\local\\programs\\python\\python311\\lib\\site-packages (from voxel51-eta<0.15,>=0.14.0->fiftyone) (2.32.3)\n",
      "Requirement already satisfied: six in c:\\users\\oso\\appdata\\local\\programs\\python\\python311\\lib\\site-packages (from voxel51-eta<0.15,>=0.14.0->fiftyone) (1.17.0)\n",
      "Requirement already satisfied: sortedcontainers in c:\\users\\oso\\appdata\\local\\programs\\python\\python311\\lib\\site-packages (from voxel51-eta<0.15,>=0.14.0->fiftyone) (2.4.0)\n",
      "Requirement already satisfied: tzlocal in c:\\users\\oso\\appdata\\local\\programs\\python\\python311\\lib\\site-packages (from voxel51-eta<0.15,>=0.14.0->fiftyone) (5.3.1)\n",
      "Requirement already satisfied: urllib3 in c:\\users\\oso\\appdata\\local\\programs\\python\\python311\\lib\\site-packages (from voxel51-eta<0.15,>=0.14.0->fiftyone) (2.4.0)\n",
      "Requirement already satisfied: anyio in c:\\users\\oso\\appdata\\local\\programs\\python\\python311\\lib\\site-packages (from httpx>=0.10.0->universal-analytics-python3<2,>=1.0.1->fiftyone) (4.9.0)\n",
      "Requirement already satisfied: certifi in c:\\users\\oso\\appdata\\local\\programs\\python\\python311\\lib\\site-packages (from httpx>=0.10.0->universal-analytics-python3<2,>=1.0.1->fiftyone) (2025.4.26)\n",
      "Requirement already satisfied: httpcore==1.* in c:\\users\\oso\\appdata\\local\\programs\\python\\python311\\lib\\site-packages (from httpx>=0.10.0->universal-analytics-python3<2,>=1.0.1->fiftyone) (1.0.9)\n",
      "Requirement already satisfied: idna in c:\\users\\oso\\appdata\\local\\programs\\python\\python311\\lib\\site-packages (from httpx>=0.10.0->universal-analytics-python3<2,>=1.0.1->fiftyone) (3.10)\n",
      "Requirement already satisfied: h11>=0.16 in c:\\users\\oso\\appdata\\local\\programs\\python\\python311\\lib\\site-packages (from httpcore==1.*->httpx>=0.10.0->universal-analytics-python3<2,>=1.0.1->fiftyone) (0.16.0)\n",
      "Requirement already satisfied: h2>=3.1.0 in c:\\users\\oso\\appdata\\local\\programs\\python\\python311\\lib\\site-packages (from hypercorn>=0.13.2->fiftyone) (4.2.0)\n",
      "Requirement already satisfied: priority in c:\\users\\oso\\appdata\\local\\programs\\python\\python311\\lib\\site-packages (from hypercorn>=0.13.2->fiftyone) (2.0.0)\n",
      "Requirement already satisfied: wsproto>=0.14.0 in c:\\users\\oso\\appdata\\local\\programs\\python\\python311\\lib\\site-packages (from hypercorn>=0.13.2->fiftyone) (1.2.0)\n",
      "Requirement already satisfied: hyperframe<7,>=6.1 in c:\\users\\oso\\appdata\\local\\programs\\python\\python311\\lib\\site-packages (from h2>=3.1.0->hypercorn>=0.13.2->fiftyone) (6.1.0)\n",
      "Requirement already satisfied: hpack<5,>=4.1 in c:\\users\\oso\\appdata\\local\\programs\\python\\python311\\lib\\site-packages (from h2>=3.1.0->hypercorn>=0.13.2->fiftyone) (4.1.0)\n",
      "Requirement already satisfied: MarkupSafe>=2.0 in c:\\users\\oso\\appdata\\local\\programs\\python\\python311\\lib\\site-packages (from Jinja2>=3->fiftyone) (3.0.2)\n",
      "Requirement already satisfied: narwhals>=1.15.1 in c:\\users\\oso\\appdata\\local\\programs\\python\\python311\\lib\\site-packages (from plotly>=4.14->fiftyone) (1.40.0)\n",
      "Requirement already satisfied: sniffio>=1.1 in c:\\users\\oso\\appdata\\local\\programs\\python\\python311\\lib\\site-packages (from anyio->httpx>=0.10.0->universal-analytics-python3<2,>=1.0.1->fiftyone) (1.3.1)\n",
      "Requirement already satisfied: typing_extensions>=4.5 in c:\\users\\oso\\appdata\\local\\programs\\python\\python311\\lib\\site-packages (from anyio->httpx>=0.10.0->universal-analytics-python3<2,>=1.0.1->fiftyone) (4.13.2)\n",
      "Requirement already satisfied: graphql-core<3.4.0,>=3.2.0 in c:\\users\\oso\\appdata\\local\\programs\\python\\python311\\lib\\site-packages (from strawberry-graphql>=0.262.4->fiftyone) (3.2.6)\n",
      "Requirement already satisfied: soupsieve>1.2 in c:\\users\\oso\\appdata\\local\\programs\\python\\python311\\lib\\site-packages (from beautifulsoup4->fiftyone) (2.7)\n",
      "Requirement already satisfied: botocore<1.39.0,>=1.38.22 in c:\\users\\oso\\appdata\\local\\programs\\python\\python311\\lib\\site-packages (from boto3->fiftyone) (1.38.22)\n",
      "Requirement already satisfied: jmespath<2.0.0,>=0.7.1 in c:\\users\\oso\\appdata\\local\\programs\\python\\python311\\lib\\site-packages (from boto3->fiftyone) (1.0.1)\n",
      "Requirement already satisfied: s3transfer<0.14.0,>=0.13.0 in c:\\users\\oso\\appdata\\local\\programs\\python\\python311\\lib\\site-packages (from boto3->fiftyone) (0.13.0)\n",
      "Requirement already satisfied: wrapt<2,>=1.10 in c:\\users\\oso\\appdata\\local\\programs\\python\\python311\\lib\\site-packages (from Deprecated->fiftyone) (1.17.2)\n",
      "Requirement already satisfied: wcwidth in c:\\users\\oso\\appdata\\local\\programs\\python\\python311\\lib\\site-packages (from ftfy->fiftyone) (0.2.13)\n",
      "Requirement already satisfied: attrs>=19.2.0 in c:\\users\\oso\\appdata\\local\\programs\\python\\python311\\lib\\site-packages (from jsonlines->voxel51-eta<0.15,>=0.14.0->fiftyone) (25.3.0)\n",
      "Requirement already satisfied: contourpy>=1.0.1 in c:\\users\\oso\\appdata\\local\\programs\\python\\python311\\lib\\site-packages (from matplotlib->fiftyone) (1.3.2)\n",
      "Requirement already satisfied: cycler>=0.10 in c:\\users\\oso\\appdata\\local\\programs\\python\\python311\\lib\\site-packages (from matplotlib->fiftyone) (0.12.1)\n",
      "Requirement already satisfied: fonttools>=4.22.0 in c:\\users\\oso\\appdata\\local\\programs\\python\\python311\\lib\\site-packages (from matplotlib->fiftyone) (4.58.0)\n",
      "Requirement already satisfied: kiwisolver>=1.3.1 in c:\\users\\oso\\appdata\\local\\programs\\python\\python311\\lib\\site-packages (from matplotlib->fiftyone) (1.4.8)\n",
      "Requirement already satisfied: pyparsing>=2.3.1 in c:\\users\\oso\\appdata\\local\\programs\\python\\python311\\lib\\site-packages (from matplotlib->fiftyone) (3.2.3)\n",
      "Requirement already satisfied: tzdata>=2022.7 in c:\\users\\oso\\appdata\\local\\programs\\python\\python311\\lib\\site-packages (from pandas->fiftyone) (2025.2)\n",
      "Requirement already satisfied: texttable in c:\\users\\oso\\appdata\\local\\programs\\python\\python311\\lib\\site-packages (from py7zr->voxel51-eta<0.15,>=0.14.0->fiftyone) (1.7.0)\n",
      "Requirement already satisfied: pycryptodomex>=3.16.0 in c:\\users\\oso\\appdata\\local\\programs\\python\\python311\\lib\\site-packages (from py7zr->voxel51-eta<0.15,>=0.14.0->fiftyone) (3.23.0)\n",
      "Requirement already satisfied: pyzstd>=0.15.9 in c:\\users\\oso\\appdata\\local\\programs\\python\\python311\\lib\\site-packages (from py7zr->voxel51-eta<0.15,>=0.14.0->fiftyone) (0.17.0)\n",
      "Requirement already satisfied: pyppmd<1.2.0,>=1.1.0 in c:\\users\\oso\\appdata\\local\\programs\\python\\python311\\lib\\site-packages (from py7zr->voxel51-eta<0.15,>=0.14.0->fiftyone) (1.1.1)\n",
      "Requirement already satisfied: pybcj<1.1.0,>=1.0.0 in c:\\users\\oso\\appdata\\local\\programs\\python\\python311\\lib\\site-packages (from py7zr->voxel51-eta<0.15,>=0.14.0->fiftyone) (1.0.6)\n",
      "Requirement already satisfied: multivolumefile>=0.2.3 in c:\\users\\oso\\appdata\\local\\programs\\python\\python311\\lib\\site-packages (from py7zr->voxel51-eta<0.15,>=0.14.0->fiftyone) (0.2.3)\n",
      "Requirement already satisfied: inflate64<1.1.0,>=1.0.0 in c:\\users\\oso\\appdata\\local\\programs\\python\\python311\\lib\\site-packages (from py7zr->voxel51-eta<0.15,>=0.14.0->fiftyone) (1.0.1)\n",
      "Requirement already satisfied: brotli>=1.1.0 in c:\\users\\oso\\appdata\\local\\programs\\python\\python311\\lib\\site-packages (from py7zr->voxel51-eta<0.15,>=0.14.0->fiftyone) (1.1.0)\n",
      "Requirement already satisfied: charset-normalizer<4,>=2 in c:\\users\\oso\\appdata\\local\\programs\\python\\python311\\lib\\site-packages (from requests->voxel51-eta<0.15,>=0.14.0->fiftyone) (3.4.2)\n",
      "Requirement already satisfied: networkx>=3.0 in c:\\users\\oso\\appdata\\local\\programs\\python\\python311\\lib\\site-packages (from scikit-image->fiftyone) (3.4.2)\n",
      "Requirement already satisfied: imageio!=2.35.0,>=2.33 in c:\\users\\oso\\appdata\\local\\programs\\python\\python311\\lib\\site-packages (from scikit-image->fiftyone) (2.37.0)\n",
      "Requirement already satisfied: tifffile>=2022.8.12 in c:\\users\\oso\\appdata\\local\\programs\\python\\python311\\lib\\site-packages (from scikit-image->fiftyone) (2025.5.21)\n",
      "Requirement already satisfied: lazy-loader>=0.4 in c:\\users\\oso\\appdata\\local\\programs\\python\\python311\\lib\\site-packages (from scikit-image->fiftyone) (0.4)\n",
      "Requirement already satisfied: joblib>=1.2.0 in c:\\users\\oso\\appdata\\local\\programs\\python\\python311\\lib\\site-packages (from scikit-learn->fiftyone) (1.5.0)\n",
      "Requirement already satisfied: threadpoolctl>=3.1.0 in c:\\users\\oso\\appdata\\local\\programs\\python\\python311\\lib\\site-packages (from scikit-learn->fiftyone) (3.6.0)\n",
      "Requirement already satisfied: colorama in c:\\users\\oso\\appdata\\local\\programs\\python\\python311\\lib\\site-packages (from tqdm->fiftyone) (0.4.6)\n"
     ]
    }
   ],
   "source": [
    "! pip install fiftyone"
   ]
  },
  {
   "cell_type": "code",
   "execution_count": 2,
   "id": "ee339e13",
   "metadata": {},
   "outputs": [
    {
     "name": "stderr",
     "output_type": "stream",
     "text": [
      "c:\\Users\\oso\\AppData\\Local\\Programs\\Python\\Python311\\Lib\\site-packages\\tqdm\\auto.py:21: TqdmWarning: IProgress not found. Please update jupyter and ipywidgets. See https://ipywidgets.readthedocs.io/en/stable/user_install.html\n",
      "  from .autonotebook import tqdm as notebook_tqdm\n"
     ]
    }
   ],
   "source": [
    "import os\n",
    "from PIL import Image\n",
    "import matplotlib.pyplot as plt\n",
    "\n",
    "import fiftyone as fo\n",
    "import fiftyone.zoo as foz\n",
    "\n",
    "%matplotlib inline"
   ]
  },
  {
   "cell_type": "code",
   "execution_count": 3,
   "id": "05488d01",
   "metadata": {},
   "outputs": [
    {
     "name": "stdout",
     "output_type": "stream",
     "text": [
      "You are running the oldest supported major version of MongoDB. Please refer to https://deprecation.voxel51.com for deprecation notices. You can suppress this exception by setting your `database_validation` config parameter to `False`. See https://docs.voxel51.com/user_guide/config.html#configuring-a-mongodb-connection for more information\n"
     ]
    },
    {
     "data": {
      "text/plain": [
       "Name:        emociones5\n",
       "Media type:  image\n",
       "Num samples: 0\n",
       "Persistent:  False\n",
       "Tags:        []\n",
       "Sample fields:\n",
       "    id:               fiftyone.core.fields.ObjectIdField\n",
       "    filepath:         fiftyone.core.fields.StringField\n",
       "    tags:             fiftyone.core.fields.ListField(fiftyone.core.fields.StringField)\n",
       "    metadata:         fiftyone.core.fields.EmbeddedDocumentField(fiftyone.core.metadata.ImageMetadata)\n",
       "    created_at:       fiftyone.core.fields.DateTimeField\n",
       "    last_modified_at: fiftyone.core.fields.DateTimeField\n",
       "    ground_truth:     fiftyone.core.fields.EmbeddedDocumentField(fiftyone.core.labels.Classifications)"
      ]
     },
     "execution_count": 3,
     "metadata": {},
     "output_type": "execute_result"
    }
   ],
   "source": [
    "ds = fo.load_dataset(\"emociones5\")\n",
    "ds\n",
    "\n"
   ]
  },
  {
   "cell_type": "code",
   "execution_count": 4,
   "id": "e07b8325",
   "metadata": {},
   "outputs": [
    {
     "name": "stdout",
     "output_type": "stream",
     "text": [
      "{\n",
      "    'samples_count': 40,\n",
      "    'samples_bytes': 13356,\n",
      "    'samples_size': '13.0KB',\n",
      "    'total_bytes': 13356,\n",
      "    'total_size': '13.0KB',\n",
      "}\n"
     ]
    }
   ],
   "source": [
    "import json\n",
    "\n",
    "images_dir = \"data\\\\imagenes\\\\\"\n",
    "annots_dir = \"data\\\\anotaciones\\\\\"\n",
    "\n",
    "for filename in os.listdir(images_dir):\n",
    "    if not filename.endswith(\".jpg\"):\n",
    "        continue\n",
    "    img_path = os.path.join(images_dir, filename)\n",
    "    annot_path = os.path.join(annots_dir, filename.replace(\".jpg\", \".json\"))\n",
    "\n",
    "    annot = json.load(open(annot_path, \"rt\"))\n",
    "\n",
    "    sample = fo.Sample(filepath=img_path)\n",
    "    sample[\"ground_truth\"] = fo.Classifications(\n",
    "        classifications=[fo.Classification(label=res[\"label\"]) for res in annot[\"results\"]]\n",
    "    )\n",
    "\n",
    "    ds.add_sample(sample)\n",
    "\n",
    "fo.pprint(ds.stats())"
   ]
  },
  {
   "cell_type": "code",
   "execution_count": 6,
   "id": "52a76008",
   "metadata": {},
   "outputs": [
    {
     "data": {
      "text/html": [
       "\n",
       "        <iframe\n",
       "            width=\"100%\"\n",
       "            height=\"800\"\n",
       "            src=\"http://localhost:5151/?notebook=True&subscription=dc655f13-c2d6-482c-bba6-adfb5e296b64\"\n",
       "            frameborder=\"0\"\n",
       "            allowfullscreen\n",
       "            \n",
       "        ></iframe>\n",
       "        "
      ],
      "text/plain": [
       "<IPython.lib.display.IFrame at 0x24fc5e4c250>"
      ]
     },
     "metadata": {},
     "output_type": "display_data"
    }
   ],
   "source": [
    "session = fo.launch_app(dataset=ds) \n"
   ]
  }
 ],
 "metadata": {
  "kernelspec": {
   "display_name": "Python 3",
   "language": "python",
   "name": "python3"
  },
  "language_info": {
   "codemirror_mode": {
    "name": "ipython",
    "version": 3
   },
   "file_extension": ".py",
   "mimetype": "text/x-python",
   "name": "python",
   "nbconvert_exporter": "python",
   "pygments_lexer": "ipython3",
   "version": "3.11.8"
  }
 },
 "nbformat": 4,
 "nbformat_minor": 5
}
